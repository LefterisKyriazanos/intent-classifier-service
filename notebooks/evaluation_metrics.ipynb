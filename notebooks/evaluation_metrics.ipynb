{
 "cells": [
  {
   "cell_type": "code",
   "execution_count": null,
   "metadata": {},
   "outputs": [],
   "source": []
  },
  {
   "cell_type": "markdown",
   "metadata": {},
   "source": [
    "# EVALUATION METRICS \n",
    "\n",
    "## GPT CLASSIFIER EVALUATION METRICS\n",
    "\n",
    "- ACCURACY\n",
    "- PRECISION \n",
    "- RECALL\n",
    "- CONFUSION MATRIX "
   ]
  },
  {
   "cell_type": "markdown",
   "metadata": {},
   "source": [
    "### Zero shot classifier \n",
    "\n",
    "Results:   \n",
    "\n",
    "`gpt-3.5-turbo`  \n",
    "`zero-shot`  \n",
    "`model_unknown_targets:  {'day_name'}`  \n",
    "\n",
    "**valid_res**: 845  -> times the model's response was in expected format  \n",
    "**invalid_res**:  3 -> times the model's response was malformed (excluded)  \n",
    "**general_accuracy**: 94%\n",
    "\n",
    "- [zero-shot-predictions](../model_evaluation/zero-shot_test_results.csv)  \n",
    "- [zero-shot-accuracy](../model_evaluation/zero-shot_accuracy.csv)  \n",
    "- [zero-shot-precision](../model_evaluation/zero-shot_precision.csv) (per class)  \n",
    "- [zero-shot-recall](../model_evaluation/zero-shot_recall.csv) (per class)  \n"
   ]
  },
  {
   "cell_type": "markdown",
   "metadata": {},
   "source": [
    "### Few shot classifier \n",
    "\n",
    "Results:   \n",
    "\n",
    "`gpt-3.5-turbo`  \n",
    "`few-shot`  \n",
    "`model_unknown_targets:  {'day_name'}`  \n",
    "\n",
    "**valid_res**: 846  -> times the model's response was in expected format  \n",
    "**invalid_res**:  2 -> times the model's response was malformed (excluded)  \n",
    "**general_accuracy**: 95%\n",
    "\n",
    "- [few-shot-predictions](../model_evaluation/few-shot_test_results.csv)  \n",
    "- [few-shot-accuracy](../model_evaluation/few-shot_accuracy.csv)  \n",
    "- [few-shot-precision](../model_evaluation/few-shot_precision.csv) (per class)  \n",
    "- [few-shot-recall](../model_evaluation/few-shot_recall.csv) (per class)  \n"
   ]
  }
 ],
 "metadata": {
  "language_info": {
   "name": "python"
  }
 },
 "nbformat": 4,
 "nbformat_minor": 2
}
