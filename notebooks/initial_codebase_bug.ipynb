{
 "cells": [
  {
   "cell_type": "markdown",
   "metadata": {},
   "source": [
    "## Initial codebase Bug \n",
    "\n",
    "- (server.py) - The server is being launched before the model has been successfully loaded.  \n",
    "This presents a high risk of running the service with a non-functional model or maintaining the service's uptime   \n",
    "while the model is still unavailable.   \n"
   ]
  }
 ],
 "metadata": {
  "language_info": {
   "name": "python"
  }
 },
 "nbformat": 4,
 "nbformat_minor": 2
}
