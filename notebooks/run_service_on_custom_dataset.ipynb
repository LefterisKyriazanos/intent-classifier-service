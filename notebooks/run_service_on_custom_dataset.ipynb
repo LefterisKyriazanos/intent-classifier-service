{
 "cells": [
  {
   "cell_type": "markdown",
   "metadata": {},
   "source": [
    "## Run Service Using a custom dataset  \n",
    "\n",
    "You can use this service to perform custom intent classification on a given set of train and test data. \n",
    "\n",
    "This implementation currently supports `tsv` files only that adhere to this format:\n",
    "\n",
    "- [train_ds](../data/atis/train.tsv)  \n",
    "- [test_ds](../data/atis/train.tsv)  \n",
    "\n",
    "To use your own files for custom classification make sure your train and test datasets adhere to this format.  \n",
    "Your files **should not** include headers.  \n",
    "\n",
    "You can run the service on the custom datasets by using these arguments:  \n",
    "\n",
    "- `--train_ds_path <train_dataset_path>`  \n",
    "- `--test_ds_path <test_dataset_path>` \n",
    "\n",
    "To add new intents to the model please see the [data_management_notebook](./data_management.ipynb) (Addition of new Intents).  \n",
    "\n"
   ]
  }
 ],
 "metadata": {
  "language_info": {
   "name": "python"
  }
 },
 "nbformat": 4,
 "nbformat_minor": 2
}
