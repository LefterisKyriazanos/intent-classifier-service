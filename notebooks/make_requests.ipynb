{
 "cells": [
  {
   "cell_type": "code",
   "execution_count": 2,
   "metadata": {},
   "outputs": [],
   "source": [
    "import requests"
   ]
  },
  {
   "cell_type": "code",
   "execution_count": 3,
   "metadata": {},
   "outputs": [],
   "source": [
    "# Define the URL of your endpoint\n",
    "url = 'http://localhost:8080/intent'\n",
    "\n"
   ]
  },
  {
   "cell_type": "code",
   "execution_count": 4,
   "metadata": {},
   "outputs": [
    {
     "name": "stdout",
     "output_type": "stream",
     "text": [
      "Status:  200\n"
     ]
    },
    {
     "data": {
      "text/plain": [
       "{'intents': [{'label': 'flight'}, {'label': 'airport'}, {'label': 'city'}]}"
      ]
     },
     "execution_count": 4,
     "metadata": {},
     "output_type": "execute_result"
    }
   ],
   "source": [
    "payload = {'text': 'flights from athens to cairo'}\n",
    "response = requests.post(url, json=payload)\n",
    "\n",
    "print('Status: ',  response.status_code)\n",
    "\n",
    "'''\n",
    "expected output:\n",
    "\n",
    "Status 200\n",
    "\n",
    "{\n",
    " \"intents\": [{\n",
    "   \"label\": \"flight\"\n",
    " }, {\n",
    "   \"label\": \"aircraft\"\n",
    " }, {\n",
    "   \"label\": \"capacity\"}]\n",
    "}\n",
    "'''\n",
    "response.json()"
   ]
  }
 ],
 "metadata": {
  "kernelspec": {
   "display_name": ".venv",
   "language": "python",
   "name": "python3"
  },
  "language_info": {
   "codemirror_mode": {
    "name": "ipython",
    "version": 3
   },
   "file_extension": ".py",
   "mimetype": "text/x-python",
   "name": "python",
   "nbconvert_exporter": "python",
   "pygments_lexer": "ipython3",
   "version": "3.11.9"
  }
 },
 "nbformat": 4,
 "nbformat_minor": 2
}
